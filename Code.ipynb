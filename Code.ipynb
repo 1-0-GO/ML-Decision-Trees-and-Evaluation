{
 "cells": [
  {
   "cell_type": "code",
   "execution_count": 1,
   "metadata": {},
   "outputs": [],
   "source": [
    "from scipy.io.arff import loadarff\n",
    "import pandas as pd\n",
    "from sklearn.model_selection import train_test_split \n",
    "import numpy as np\n",
    "from sklearn import tree, metrics\n",
    "from sklearn.feature_selection import SelectKBest, mutual_info_classif"
   ]
  },
  {
   "cell_type": "code",
   "execution_count": 2,
   "metadata": {},
   "outputs": [
    {
     "name": "stdout",
     "output_type": "stream",
     "text": [
      "       PPE      DFA     RPDE  numPulses  numPeriodsPulses  meanPeriodPulses  \\\n",
      "0  0.85247  0.71826  0.57227      240.0             239.0          0.008064   \n",
      "1  0.76686  0.69481  0.53966      234.0             233.0          0.008258   \n",
      "2  0.85083  0.67604  0.58982      232.0             231.0          0.008340   \n",
      "3  0.41121  0.79672  0.59257      178.0             177.0          0.010858   \n",
      "4  0.32790  0.79782  0.53028      236.0             235.0          0.008162   \n",
      "\n",
      "   stdDevPeriodPulses  locPctJitter  locAbsJitter  rapJitter  ...  \\\n",
      "0            0.000087       0.00218      0.000018    0.00067  ...   \n",
      "1            0.000073       0.00195      0.000016    0.00052  ...   \n",
      "2            0.000060       0.00176      0.000015    0.00057  ...   \n",
      "3            0.000183       0.00419      0.000046    0.00149  ...   \n",
      "4            0.002669       0.00535      0.000044    0.00166  ...   \n",
      "\n",
      "   tqwt_kurtosisValue_dec_28  tqwt_kurtosisValue_dec_29  \\\n",
      "0                     1.5620                     2.6445   \n",
      "1                     1.5589                     3.6107   \n",
      "2                     1.5643                     2.3308   \n",
      "3                     3.7805                     3.5664   \n",
      "4                     6.1727                     5.8416   \n",
      "\n",
      "   tqwt_kurtosisValue_dec_30  tqwt_kurtosisValue_dec_31  \\\n",
      "0                     3.8686                     4.2105   \n",
      "1                    23.5155                    14.1962   \n",
      "2                     9.4959                    10.7458   \n",
      "3                     5.2558                    14.0403   \n",
      "4                     6.0805                     5.7621   \n",
      "\n",
      "   tqwt_kurtosisValue_dec_32  tqwt_kurtosisValue_dec_33  \\\n",
      "0                     5.1221                     4.4625   \n",
      "1                    11.0261                     9.5082   \n",
      "2                    11.0177                     4.8066   \n",
      "3                     4.2235                     4.6857   \n",
      "4                     7.7817                    11.6891   \n",
      "\n",
      "   tqwt_kurtosisValue_dec_34  tqwt_kurtosisValue_dec_35  \\\n",
      "0                     2.6202                     3.0004   \n",
      "1                     6.5245                     6.3431   \n",
      "2                     2.9199                     3.1495   \n",
      "3                     4.8460                     6.2650   \n",
      "4                     8.2103                     5.0559   \n",
      "\n",
      "   tqwt_kurtosisValue_dec_36  class  \n",
      "0                    18.9405      1  \n",
      "1                    45.1780      1  \n",
      "2                     4.7666      1  \n",
      "3                     4.0603      1  \n",
      "4                     6.1164      1  \n",
      "\n",
      "[5 rows x 753 columns]\n",
      "(756, 753)\n"
     ]
    }
   ],
   "source": [
    "data = loadarff('pd_speech.arff')\n",
    "df = pd.DataFrame(data[0])\n",
    "df['class'] = df['class'].str.decode('utf-8')\n",
    "print(df.head())\n",
    "print(df.shape)"
   ]
  },
  {
   "cell_type": "code",
   "execution_count": 3,
   "metadata": {},
   "outputs": [
    {
     "name": "stdout",
     "output_type": "stream",
     "text": [
      "class\n",
      "1    564\n",
      "0    192\n",
      "dtype: int64\n",
      "PPE                          0\n",
      "DFA                          0\n",
      "RPDE                         0\n",
      "numPulses                    0\n",
      "numPeriodsPulses             0\n",
      "                            ..\n",
      "tqwt_kurtosisValue_dec_33    0\n",
      "tqwt_kurtosisValue_dec_34    0\n",
      "tqwt_kurtosisValue_dec_35    0\n",
      "tqwt_kurtosisValue_dec_36    0\n",
      "class                        0\n",
      "Length: 753, dtype: int64\n"
     ]
    }
   ],
   "source": [
    "print(df.value_counts('class'))\n",
    "print(df.isna().sum())\n"
   ]
  },
  {
   "cell_type": "code",
   "execution_count": 4,
   "metadata": {},
   "outputs": [],
   "source": [
    "number_of_features = [1, 5, 10, 40, 100, 250, 700]\n",
    "x, y = df.drop('class', axis=1), np.ravel(df['class'])\n",
    "x_train, x_test, y_train, y_test = train_test_split(x, y, train_size = 0.7, random_state=1)\n",
    "data_accuracy_results = {'training':[], 'testing':[]}\n",
    "for i in number_of_features:\n",
    "    select = SelectKBest(score_func = mutual_info_classif, k=i)\n",
    "    select.fit(x_train, y_train)\n",
    "    x_train_new = select.transform(x_train)\n",
    "    x_test_new = select.transform(x_test)\n",
    "    predictor = tree.DecisionTreeClassifier()\n",
    "    predictor.fit(x_train_new, y_train)\n",
    "    y_pred_train = predictor.predict(x_train_new)\n",
    "    y_pred_test = predictor.predict(x_test_new)\n",
    "    data_accuracy_results['training'].append(metrics.accuracy_score(y_train, y_pred_train))\n",
    "    data_accuracy_results['testing'].append(metrics.accuracy_score(y_test, y_pred_test))\n",
    "\n",
    "    \n"
   ]
  },
  {
   "cell_type": "code",
   "execution_count": 5,
   "metadata": {},
   "outputs": [
    {
     "data": {
      "text/plain": [
       "<AxesSubplot:>"
      ]
     },
     "execution_count": 5,
     "metadata": {},
     "output_type": "execute_result"
    },
    {
     "data": {
      "image/png": "[encoded data removed]",
      "text/plain": [
       "<Figure size 432x288 with 1 Axes>"
      ]
     },
     "metadata": {
      "needs_background": "light"
     },
     "output_type": "display_data"
    }
   ],
   "source": [
    "df_accuracy_results = pd.DataFrame(data_accuracy_results, index = number_of_features)\n",
    "df_accuracy_results.plot.line()"
   ]
  },
  {
   "cell_type": "code",
   "execution_count": 6,
   "metadata": {},
   "outputs": [
    {
     "name": "stdout",
     "output_type": "stream",
     "text": [
      "0.998109640831758\n"
     ]
    }
   ],
   "source": [
    "print(data_accuracy_results['training'][0])"
   ]
  }
 ],
 "metadata": {
  "kernelspec": {
   "display_name": "Python 3.9.12 ('base')",
   "language": "python",
   "name": "python3"
  },
  "language_info": {
   "codemirror_mode": {
    "name": "ipython",
    "version": 3
   },
   "file_extension": ".py",
   "mimetype": "text/x-python",
   "name": "python",
   "nbconvert_exporter": "python",
   "pygments_lexer": "ipython3",
   "version": "3.9.12"
  },
  "orig_nbformat": 4,
  "vscode": {
   "interpreter": {
    "hash": "957668f77d739aed3606dc0cb3e6b9836150d21e7c3a979985571ea2faa3bd84"
   }
  }
 },
 "nbformat": 4,
 "nbformat_minor": 2
}
